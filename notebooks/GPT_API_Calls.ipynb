{
 "cells": [
  {
   "cell_type": "code",
   "execution_count": 114,
   "metadata": {
    "executionInfo": {
     "elapsed": 14,
     "status": "ok",
     "timestamp": 1745525480547,
     "user": {
      "displayName": "AI Adventures",
      "userId": "06384775953821374841"
     },
     "user_tz": -180
    },
    "id": "yI94xlqfvspR"
   },
   "outputs": [],
   "source": [
    "from IPython.display import clear_output\n",
    "from pydantic import BaseModel\n",
    "from openai import OpenAI\n",
    "import json\n",
    "import os"
   ]
  },
  {
   "cell_type": "code",
   "execution_count": 116,
   "metadata": {
    "executionInfo": {
     "elapsed": 26,
     "status": "ok",
     "timestamp": 1745525480685,
     "user": {
      "displayName": "AI Adventures",
      "userId": "06384775953821374841"
     },
     "user_tz": -180
    },
    "id": "mYdGPA5p51nv"
   },
   "outputs": [],
   "source": [
    "# System prompts (define how the chat outputs)\n",
    "system_prompts = {\n",
    "    \"info\": \"You are an expert dog breed evaluator. Provide only the necessary information and avoid unnecessary details.\",\n",
    "    \"category\": \"You are an expert dog behavior evaluator. Rate each breed and provide only the necessary numeric scores and a short final justification.\"\n",
    "}\n",
    "\n",
    "# User prompts (context for what to put in the JSON)\n",
    "def general_info_prompt(breed_name):\n",
    "    return f\"The user has a {breed_name}. Provide its basic breed profile: lifespan, height, weight, coat, origin, etc.\"\n",
    "\n",
    "def intelligence_prompt(breed_name):\n",
    "    return f\"Rate the intelligence and trainability of the {breed_name}. Consider learning speed, obedience, and responsiveness.\"\n",
    "\n",
    "def hygiene_prompt(breed_name):\n",
    "    return f\"Rate the hygiene and grooming demands of the {breed_name}. Include shedding, grooming effort, and bathing needs.\"\n",
    "\n",
    "def owner_suitability_prompt(breed_name):\n",
    "    return f\"Rate the {breed_name} for different types of dog owners. Consider patience, training consistency, and ease for first-time owners.\"\n",
    "\n",
    "def living_environment_prompt(breed_name):\n",
    "    return f\"Rate how well the {breed_name} fits into different living environments. Consider barking, apartment suitability, and space needs.\"\n",
    "\n",
    "def energy_prompt(breed_name):\n",
    "    return f\"Rate the energy and activity level of the {breed_name}. Include exercise needs, playfulness, and mental stimulation.\"\n",
    "\n",
    "def sociability_prompt(breed_name):\n",
    "    return f\"Rate how well the {breed_name} fits in family and social environments. Include behavior with kids, pets, and strangers.\""
   ]
  },
  {
   "cell_type": "code",
   "execution_count": 117,
   "metadata": {
    "executionInfo": {
     "elapsed": 0,
     "status": "ok",
     "timestamp": 1745525480687,
     "user": {
      "displayName": "AI Adventures",
      "userId": "06384775953821374841"
     },
     "user_tz": -180
    },
    "id": "5J34fwgr5cW7"
   },
   "outputs": [],
   "source": [
    "# Creating a JSON Template for each Tracked Metric\n",
    "class GeneralInfo(BaseModel):\n",
    "    Breed_name: str\n",
    "    Life_expectancy: str\n",
    "    Average_weight: str\n",
    "    Average_height: str\n",
    "    Breed_group: str\n",
    "    Origin: str\n",
    "    Common_colors: str\n",
    "    Coat_type: str\n",
    "\n",
    "class Intelligence(BaseModel):\n",
    "    Learning_speed: float\n",
    "    Obedience_level: float\n",
    "    Responsiveness: float\n",
    "    Overall_justification: str\n",
    "\n",
    "class Hygiene(BaseModel):\n",
    "    Shedding_level: float\n",
    "    Grooming_effort: float\n",
    "    Bathing_frequency: float\n",
    "    Overall_justification: str\n",
    "\n",
    "class OwnerSuitability(BaseModel):\n",
    "    First_time_owner_suitability: float\n",
    "    Patience_required: float\n",
    "    Training_consistency: float\n",
    "    Overall_justification: str\n",
    "\n",
    "class LivingEnvironment(BaseModel):\n",
    "    Apartment_suitability: float\n",
    "    Barking_tendency: float\n",
    "    Space_requirement: float\n",
    "    Overall_justification: str\n",
    "\n",
    "class Energy(BaseModel):\n",
    "    Exercise_needs: float\n",
    "    Playfulness: float\n",
    "    Mental_stimulation: float\n",
    "    Overall_justification: str\n",
    "\n",
    "class Sociability(BaseModel):\n",
    "    Good_with_children: float\n",
    "    Other_pet_compatibility: float\n",
    "    Stranger_friendliness: float\n",
    "    Overall_justification: str"
   ]
  },
  {
   "cell_type": "code",
   "execution_count": 118,
   "metadata": {
    "executionInfo": {
     "elapsed": 1,
     "status": "ok",
     "timestamp": 1745525480690,
     "user": {
      "displayName": "AI Adventures",
      "userId": "06384775953821374841"
     },
     "user_tz": -180
    },
    "id": "et8kpE4bbCZW"
   },
   "outputs": [],
   "source": [
    "# dictionary for getting all the information with 7 api calls\n",
    "card_info = {\n",
    "    \"general_info\": {\n",
    "        \"format\": GeneralInfo,\n",
    "        \"user_prompt\": general_info_prompt,\n",
    "        \"system_prompt\": system_prompts[\"info\"]\n",
    "    },\n",
    "    \"intelligence\": {\n",
    "        \"format\": Intelligence,\n",
    "        \"user_prompt\": intelligence_prompt,\n",
    "        \"system_prompt\": system_prompts[\"category\"]\n",
    "    },\n",
    "    \"hygiene\": {\n",
    "        \"format\": Hygiene,\n",
    "        \"user_prompt\": hygiene_prompt,\n",
    "        \"system_prompt\": system_prompts[\"category\"]\n",
    "    },\n",
    "    \"owner_suitability\": {\n",
    "        \"format\": OwnerSuitability,\n",
    "        \"user_prompt\": owner_suitability_prompt,\n",
    "        \"system_prompt\": system_prompts[\"category\"]\n",
    "    },\n",
    "    \"living_environment\": {\n",
    "        \"format\": LivingEnvironment,\n",
    "        \"user_prompt\": living_environment_prompt,\n",
    "        \"system_prompt\": system_prompts[\"category\"]\n",
    "    },\n",
    "    \"energy\": {\n",
    "        \"format\": Energy,\n",
    "        \"user_prompt\": energy_prompt,\n",
    "        \"system_prompt\": system_prompts[\"category\"]\n",
    "    },\n",
    "    \"sociability\": {\n",
    "        \"format\": Sociability,\n",
    "        \"user_prompt\": sociability_prompt,\n",
    "        \"system_prompt\": system_prompts[\"category\"]\n",
    "    },\n",
    "}"
   ]
  },
  {
   "cell_type": "code",
   "execution_count": 119,
   "metadata": {
    "executionInfo": {
     "elapsed": 13,
     "status": "ok",
     "timestamp": 1745525480703,
     "user": {
      "displayName": "AI Adventures",
      "userId": "06384775953821374841"
     },
     "user_tz": -180
    },
    "id": "aXqhjuYuQCn0"
   },
   "outputs": [],
   "source": [
    "class BreedCard:\n",
    "  def __init__(self, client, breed_name, card_info):\n",
    "    self.client = client\n",
    "    self.model = \"gpt-4o-mini-2024-07-18\"\n",
    "    self.breed_name = breed_name\n",
    "    self.card_info = card_info\n",
    "    self.breed_card = self.__get_info()\n",
    "\n",
    "  # function for making one api call the retrives spesific info about self.breed_name\n",
    "  def __api_call(self, ans_format, usr_prompt, sys_prompt):\n",
    "    response = self.client.responses.parse(\n",
    "      model=self.model,\n",
    "      input=[\n",
    "          {\"role\": \"system\", \"content\": sys_prompt},\n",
    "          {\"role\": \"user\", \"content\": usr_prompt(self.breed_name)}\n",
    "      ],\n",
    "      text_format=ans_format,\n",
    "    )\n",
    "    return response.output_parsed.model_dump()\n",
    "\n",
    "  # function to retrive all needed information for a spesific breed\n",
    "  def __get_info(self):\n",
    "    breed_info = {}\n",
    "    for metric in self.card_info:\n",
    "\n",
    "      breed_info[metric] = self.__api_call(\n",
    "          self.card_info[metric][\"format\"],\n",
    "          self.card_info[metric][\"user_prompt\"],\n",
    "          self.card_info[metric][\"system_prompt\"]\n",
    "      )\n",
    "    return breed_info"
   ]
  },
  {
   "cell_type": "code",
   "execution_count": null,
   "metadata": {
    "executionInfo": {
     "elapsed": 157,
     "status": "ok",
     "timestamp": 1745525480861,
     "user": {
      "displayName": "AI Adventures",
      "userId": "06384775953821374841"
     },
     "user_tz": -180
    },
    "id": "vpZxfMc3UJvQ"
   },
   "outputs": [],
   "source": [
    "from dotenv import load_dotenv\n",
    "load_dotenv()\n",
    "KEY = os.getenv(\"API_KEY\")\n",
    "client = OpenAI(api_key=KEY)"
   ]
  },
  {
   "cell_type": "code",
   "execution_count": 121,
   "metadata": {
    "colab": {
     "base_uri": "https://localhost:8080/"
    },
    "executionInfo": {
     "elapsed": 103213,
     "status": "ok",
     "timestamp": 1745525584076,
     "user": {
      "displayName": "AI Adventures",
      "userId": "06384775953821374841"
     },
     "user_tz": -180
    },
    "id": "6TzYHCOmU7rA",
    "outputId": "f2604de1-3376-4bd0-f12f-3863a73afcd2"
   },
   "outputs": [
    {
     "name": "stdout",
     "output_type": "stream",
     "text": [
      "12.3 s ± 839 ms per loop (mean ± std. dev. of 7 runs, 1 loop each)\n"
     ]
    }
   ],
   "source": [
    "%%timeit\n",
    "golden_retriver = BreedCard(client, \"Golden Retriver\", card_info)"
   ]
  },
  {
   "cell_type": "code",
   "execution_count": 122,
   "metadata": {
    "executionInfo": {
     "elapsed": 11,
     "status": "ok",
     "timestamp": 1745525584082,
     "user": {
      "displayName": "AI Adventures",
      "userId": "06384775953821374841"
     },
     "user_tz": -180
    },
    "id": "i2nQ4AqR3gsq"
   },
   "outputs": [],
   "source": [
    "# all breeds supported with my computer vision model\n",
    "breed_labels = ['Bouvier Des Flandres', 'Standard Poodle', 'Welsh Springer Spaniel', 'Norwegian Elkhound', 'Appenzeller', 'Airedale', 'Border Collie', 'Wire-Haired Fox Terrier', 'Affenpinscher', 'Siberian Husky', 'Australian Terrier', 'Chow', 'Leonberg', 'English Setter', 'Boxer', 'Toy Terrier', 'Rhodesian Ridgeback', 'Bluetick', 'Norwich Terrier', 'Basset', 'Bloodhound', 'Great Dane', 'Afghan Hound', 'Dhole', 'Basenji', 'German Shepherd', 'Sealyham Terrier', 'Sussex Spaniel', 'Old English Sheepdog', 'Keeshond', 'Shetland Sheepdog', 'Komondor', 'Shih-Tzu', 'Entlebucher', 'Irish Wolfhound', 'Lhasa', 'Black-And-Tan Coonhound', 'Ibizan Hound', 'Irish Water Spaniel', 'German Short-Haired Pointer', 'Blenheim Spaniel', 'Scotch Terrier', 'Rottweiler', 'Mexican Hairless', 'Toy Poodle', 'Pug', 'Malinois', 'Golden Retriever', 'Curly-Coated Retriever', 'Maltese Dog', 'Miniature Poodle', 'Eskimo Dog', 'Briard', 'Bernese Mountain Dog', 'Border Terrier', 'Scottish Deerhound', 'French Bulldog', 'English Springer', 'Papillon', 'Labrador Retriever', 'Groenendael', 'American Staffordshire Terrier', 'Saluki', 'Kerry Blue Terrier', 'Miniature Pinscher', 'West Highland White Terrier', 'Staffordshire Bullterrier', 'English Foxhound', 'Dingo', 'Lakeland Terrier', 'Great Pyrenees', 'Standard Schnauzer', 'Walker Hound', 'Collie', 'Kuvasz', 'Flat-Coated Retriever', 'Bull Mastiff', 'African Hunting Dog', 'Chihuahua', 'Schipperke', 'Italian Greyhound', 'Silky Terrier', 'Cairn', 'Brabancon Griffon', 'Gordon Setter', 'Miniature Schnauzer', 'Weimaraner', 'Japanese Spaniel', 'Dandie Dinmont', 'Beagle', 'Brittany Spaniel', 'Newfoundland', 'Cardigan', 'Yorkshire Terrier', 'Vizsla', 'Redbone', 'Malamute', 'Clumber', 'Borzoi', 'Boston Bull', 'Tibetan Mastiff', 'Pomeranian', 'Tibetan Terrier', 'Doberman', 'Irish Setter', 'Kelpie', 'Norfolk Terrier', 'Greater Swiss Mountain Dog', 'Bedlington Terrier', 'Giant Schnauzer', 'Otterhound', 'Whippet', 'Irish Terrier', 'Soft-Coated Wheaten Terrier', 'Saint Bernard', 'Samoyed', 'Chesapeake Bay Retriever', 'Pembroke', 'Pekinese', 'Cocker Spaniel']"
   ]
  },
  {
   "cell_type": "code",
   "execution_count": 123,
   "metadata": {
    "colab": {
     "base_uri": "https://localhost:8080/"
    },
    "executionInfo": {
     "elapsed": 1847626,
     "status": "ok",
     "timestamp": 1745527431710,
     "user": {
      "displayName": "AI Adventures",
      "userId": "06384775953821374841"
     },
     "user_tz": -180
    },
    "id": "IPl7vCXuWr24",
    "outputId": "1301d086-ea10-4568-f317-ef3ed0f88a0c"
   },
   "outputs": [
    {
     "name": "stdout",
     "output_type": "stream",
     "text": [
      "Cocker Spaniel: 120/120\n"
     ]
    }
   ],
   "source": [
    "# store a card for each breed in card_per_breed\n",
    "card_per_breed = {}\n",
    "for i, breed in enumerate(breed_labels):\n",
    "  card_per_breed[breed] = BreedCard(client, breed, card_info).breed_card\n",
    "\n",
    "  # Track Progress:\n",
    "  clear_output()\n",
    "  print(f\"{breed}: {i+1}/{len(breed_labels)}\")"
   ]
  },
  {
   "cell_type": "code",
   "execution_count": 124,
   "metadata": {
    "colab": {
     "base_uri": "https://localhost:8080/"
    },
    "executionInfo": {
     "elapsed": 63,
     "status": "ok",
     "timestamp": 1745527431750,
     "user": {
      "displayName": "AI Adventures",
      "userId": "06384775953821374841"
     },
     "user_tz": -180
    },
    "id": "2Znm-_EMW-zv",
    "outputId": "e635289d-c9ac-4102-b66b-7605bfb75528"
   },
   "outputs": [
    {
     "data": {
      "text/plain": [
       "{'Learning_speed': 9.0,\n",
       " 'Obedience_level': 10.0,\n",
       " 'Responsiveness': 9.0,\n",
       " 'Overall_justification': 'Border Collies are highly intelligent, known for their exceptional learning speed and ability to follow commands, making them one of the most trainable breeds.'}"
      ]
     },
     "execution_count": 124,
     "metadata": {},
     "output_type": "execute_result"
    }
   ],
   "source": [
    "# Example\n",
    "card_per_breed['Border Collie'][\"intelligence\"]"
   ]
  },
  {
   "cell_type": "code",
   "execution_count": 126,
   "metadata": {
    "colab": {
     "base_uri": "https://localhost:8080/"
    },
    "executionInfo": {
     "elapsed": 34553,
     "status": "ok",
     "timestamp": 1745527842732,
     "user": {
      "displayName": "AI Adventures",
      "userId": "06384775953821374841"
     },
     "user_tz": -180
    },
    "id": "wdtGr8VWkJTR",
    "outputId": "a0a27a7d-61e6-49d3-c367-a6f60b3b7ce8"
   },
   "outputs": [
    {
     "name": "stdout",
     "output_type": "stream",
     "text": [
      "Mounted at /content/drive\n"
     ]
    }
   ],
   "source": [
    "from google.colab import drive\n",
    "drive.mount('/content/drive')"
   ]
  },
  {
   "cell_type": "code",
   "execution_count": 127,
   "metadata": {
    "executionInfo": {
     "elapsed": 3567,
     "status": "ok",
     "timestamp": 1745527846297,
     "user": {
      "displayName": "AI Adventures",
      "userId": "06384775953821374841"
     },
     "user_tz": -180
    },
    "id": "61WsLyFuXRWT"
   },
   "outputs": [],
   "source": [
    "save_dir = \"/content/drive/Othercomputers/My Mac/Desktop/Dog Classification Project/Deploy Model/\"\n",
    "model_name = \"breed_info.json\"\n",
    "file_path = os.path.join(save_dir, model_name)\n",
    "\n",
    "# Save the dictionary as JSON\n",
    "with open(file_path, \"w\") as json_file:\n",
    "    json.dump(card_per_breed, json_file, indent=4)"
   ]
  }
 ],
 "metadata": {
  "colab": {
   "authorship_tag": "ABX9TyMZMRAvA+HWEnZ3eJJ+ftn6",
   "provenance": []
  },
  "kernelspec": {
   "display_name": "Python 3",
   "name": "python3"
  },
  "language_info": {
   "name": "python"
  }
 },
 "nbformat": 4,
 "nbformat_minor": 0
}
